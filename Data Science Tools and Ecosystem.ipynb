{
 "cells": [
  {
   "metadata": {},
   "cell_type": "markdown",
   "source": "# Data Science Tools and Ecosystem",
   "id": "3cacefd22e9170ac"
  },
  {
   "metadata": {},
   "cell_type": "markdown",
   "source": [
    "Some of the popular languages that Data Scientists use are:\n",
    "\n",
    "1. Python\n",
    "2. R\n",
    "3. SQL\n",
    "4. Julia\n",
    "5. Scala\n"
   ],
   "id": "582e4b758740fe3a"
  },
  {
   "metadata": {},
   "cell_type": "markdown",
   "source": [
    "Some of the commonly used libraries used by Data Scientists include:\n",
    "\n",
    "1. NumPy\n",
    "2. Pandas\n",
    "3. TensorFlow\n"
   ],
   "id": "f355e211cd2eb912"
  },
  {
   "metadata": {},
   "cell_type": "markdown",
   "source": [
    "\n",
    "| Data Science Tools         |\n",
    "|---------------------------|\n",
    "| Jupyter Notebook          |\n",
    "| RStudio                   |\n",
    "| Apache Zeppelin           |\n"
   ],
   "id": "b287364073063d88"
  },
  {
   "metadata": {},
   "cell_type": "markdown",
   "source": "### Below are a few examples of evaluating arithmetic expressions in Python.\n",
   "id": "6528f75fc2bfbfe7"
  },
  {
   "metadata": {
    "ExecuteTime": {
     "end_time": "2025-07-20T13:14:09.530564Z",
     "start_time": "2025-07-20T13:13:41.096176Z"
    }
   },
   "cell_type": "code",
   "source": [
    "# This is a simple arithmetic expression to multiply then add integers\n",
    "(3 * 4) + 5\n"
   ],
   "id": "34dd99e1cf4791bc",
   "outputs": [
    {
     "data": {
      "text/plain": [
       "17"
      ]
     },
     "execution_count": 2,
     "metadata": {},
     "output_type": "execute_result"
    }
   ],
   "execution_count": null
  },
  {
   "metadata": {
    "ExecuteTime": {
     "end_time": "2025-07-20T13:15:32.160021Z",
     "start_time": "2025-07-20T13:15:32.135318Z"
    }
   },
   "cell_type": "code",
   "source": [
    "\n",
    "# This will convert 200 minutes to hours by dividing by 60\n",
    "200 / 60\n"
   ],
   "id": "b40a68803c8e3b46",
   "outputs": [
    {
     "data": {
      "text/plain": [
       "3.3333333333333335"
      ]
     },
     "execution_count": 3,
     "metadata": {},
     "output_type": "execute_result"
    }
   ],
   "execution_count": 3
  },
  {
   "metadata": {},
   "cell_type": "markdown",
   "source": [
    "\n",
    "**Objectives:**\n",
    "\n",
    "- List popular languages for Data Science\n",
    "- Identify commonly used libraries in Data Science\n",
    "- Create and format tables using Markdown\n",
    "- Perform basic arithmetic operations in Python\n",
    "- Convert units using Python expressions\n"
   ],
   "id": "687353543f937210"
  },
  {
   "metadata": {},
   "cell_type": "markdown",
   "source": [
    "\n",
    "## Author\n",
    "\n",
    "R Mendoza\n"
   ],
   "id": "2201d44bc13c298b"
  }
 ],
 "metadata": {
  "kernelspec": {
   "display_name": "Python 3",
   "language": "python",
   "name": "python3"
  },
  "language_info": {
   "codemirror_mode": {
    "name": "ipython",
    "version": 2
   },
   "file_extension": ".py",
   "mimetype": "text/x-python",
   "name": "python",
   "nbconvert_exporter": "python",
   "pygments_lexer": "ipython2",
   "version": "2.7.6"
  }
 },
 "nbformat": 4,
 "nbformat_minor": 5
}
